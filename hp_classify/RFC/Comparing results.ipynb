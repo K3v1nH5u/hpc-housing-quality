{
 "cells": [
  {
   "cell_type": "code",
   "execution_count": 1,
   "metadata": {
    "collapsed": true
   },
   "outputs": [],
   "source": [
    "import pandas as pd\n",
    "\n",
    "\n",
    "from Functions import Load_Data, Ranking, Shuffle_Redistribute, Train_Test_Split\n",
    "from Build_Model import Build_RFC"
   ]
  },
  {
   "cell_type": "code",
   "execution_count": 2,
   "metadata": {},
   "outputs": [
    {
     "name": "stdout",
     "output_type": "stream",
     "text": [
      "Runtime:5.52 sec\n"
     ]
    }
   ],
   "source": [
    "#Load housing_data\n",
    "df = Load_Data('housing_data.csv')\n",
    "\n",
    "#dataframe with na in any row\n",
    "withna = df[df.isnull().any(axis=1)]\n",
    "\n",
    "#drop missing data\n",
    "df = df.dropna()"
   ]
  },
  {
   "cell_type": "markdown",
   "metadata": {},
   "source": [
    "### Prediction accuracy scores on roof, wall and floor"
   ]
  },
  {
   "cell_type": "code",
   "execution_count": 3,
   "metadata": {},
   "outputs": [
    {
     "name": "stderr",
     "output_type": "stream",
     "text": [
      "/Users/kevinhsu/Documents/CSE583/RF/Functions.py:50: SettingWithCopyWarning: \n",
      "A value is trying to be set on a copy of a slice from a DataFrame.\n",
      "Try using .loc[row_indexer,col_indexer] = value instead\n",
      "\n",
      "See the caveats in the documentation: http://pandas.pydata.org/pandas-docs/stable/indexing.html#indexing-view-versus-copy\n",
      "  df[val+'_rank'] = (df['housing_'+val+'_num']/10).apply(np.floor)\n",
      "/Users/kevinhsu/anaconda3/lib/python3.6/site-packages/pandas/core/indexing.py:537: SettingWithCopyWarning: \n",
      "A value is trying to be set on a copy of a slice from a DataFrame.\n",
      "Try using .loc[row_indexer,col_indexer] = value instead\n",
      "\n",
      "See the caveats in the documentation: http://pandas.pydata.org/pandas-docs/stable/indexing.html#indexing-view-versus-copy\n",
      "  self.obj[item] = s\n",
      "/Users/kevinhsu/Documents/CSE583/RF/Functions.py:38: SettingWithCopyWarning: \n",
      "A value is trying to be set on a copy of a slice from a DataFrame.\n",
      "Try using .loc[row_indexer,col_indexer] = value instead\n",
      "\n",
      "See the caveats in the documentation: http://pandas.pydata.org/pandas-docs/stable/indexing.html#indexing-view-versus-copy\n",
      "  df['housing_'+word+'_num'] = df['housing_'+word+'_num'].replace('?',None)\n",
      "/Users/kevinhsu/Documents/CSE583/RF/Functions.py:39: SettingWithCopyWarning: \n",
      "A value is trying to be set on a copy of a slice from a DataFrame.\n",
      "Try using .loc[row_indexer,col_indexer] = value instead\n",
      "\n",
      "See the caveats in the documentation: http://pandas.pydata.org/pandas-docs/stable/indexing.html#indexing-view-versus-copy\n",
      "  df['housing_'+word+'_num'] = df['housing_'+word+'_num'].replace('.',None)\n",
      "/Users/kevinhsu/Documents/CSE583/RF/Functions.py:40: SettingWithCopyWarning: \n",
      "A value is trying to be set on a copy of a slice from a DataFrame.\n",
      "Try using .loc[row_indexer,col_indexer] = value instead\n",
      "\n",
      "See the caveats in the documentation: http://pandas.pydata.org/pandas-docs/stable/indexing.html#indexing-view-versus-copy\n",
      "  df['housing_'+word+'_num'] = pd.to_numeric(df['housing_'+word+'_num'])\n",
      "/Users/kevinhsu/Documents/CSE583/RF/Functions.py:72: SettingWithCopyWarning: \n",
      "A value is trying to be set on a copy of a slice from a DataFrame.\n",
      "Try using .loc[row_indexer,col_indexer] = value instead\n",
      "\n",
      "See the caveats in the documentation: http://pandas.pydata.org/pandas-docs/stable/indexing.html#indexing-view-versus-copy\n",
      "  rank['rand_num'] = np.random.uniform(0,1, len(rank))\n"
     ]
    },
    {
     "name": "stdout",
     "output_type": "stream",
     "text": [
      "Train set Accuracy score:76.00%\n",
      "Test set Accuracy score:71.67%\n",
      "             precision    recall  f1-score   support\n",
      "\n",
      "     rank 1       0.71      0.69      0.70     12118\n",
      "     rank 2       0.74      0.83      0.79     12196\n",
      "     rank 3       0.70      0.63      0.66     12285\n",
      "\n",
      "avg / total       0.71      0.72      0.71     36599\n",
      "\n"
     ]
    },
    {
     "name": "stderr",
     "output_type": "stream",
     "text": [
      "/Users/kevinhsu/Documents/CSE583/RF/Functions.py:50: SettingWithCopyWarning: \n",
      "A value is trying to be set on a copy of a slice from a DataFrame.\n",
      "Try using .loc[row_indexer,col_indexer] = value instead\n",
      "\n",
      "See the caveats in the documentation: http://pandas.pydata.org/pandas-docs/stable/indexing.html#indexing-view-versus-copy\n",
      "  df[val+'_rank'] = (df['housing_'+val+'_num']/10).apply(np.floor)\n",
      "/Users/kevinhsu/anaconda3/lib/python3.6/site-packages/pandas/core/indexing.py:537: SettingWithCopyWarning: \n",
      "A value is trying to be set on a copy of a slice from a DataFrame.\n",
      "Try using .loc[row_indexer,col_indexer] = value instead\n",
      "\n",
      "See the caveats in the documentation: http://pandas.pydata.org/pandas-docs/stable/indexing.html#indexing-view-versus-copy\n",
      "  self.obj[item] = s\n",
      "/Users/kevinhsu/Documents/CSE583/RF/Functions.py:38: SettingWithCopyWarning: \n",
      "A value is trying to be set on a copy of a slice from a DataFrame.\n",
      "Try using .loc[row_indexer,col_indexer] = value instead\n",
      "\n",
      "See the caveats in the documentation: http://pandas.pydata.org/pandas-docs/stable/indexing.html#indexing-view-versus-copy\n",
      "  df['housing_'+word+'_num'] = df['housing_'+word+'_num'].replace('?',None)\n",
      "/Users/kevinhsu/Documents/CSE583/RF/Functions.py:39: SettingWithCopyWarning: \n",
      "A value is trying to be set on a copy of a slice from a DataFrame.\n",
      "Try using .loc[row_indexer,col_indexer] = value instead\n",
      "\n",
      "See the caveats in the documentation: http://pandas.pydata.org/pandas-docs/stable/indexing.html#indexing-view-versus-copy\n",
      "  df['housing_'+word+'_num'] = df['housing_'+word+'_num'].replace('.',None)\n",
      "/Users/kevinhsu/Documents/CSE583/RF/Functions.py:40: SettingWithCopyWarning: \n",
      "A value is trying to be set on a copy of a slice from a DataFrame.\n",
      "Try using .loc[row_indexer,col_indexer] = value instead\n",
      "\n",
      "See the caveats in the documentation: http://pandas.pydata.org/pandas-docs/stable/indexing.html#indexing-view-versus-copy\n",
      "  df['housing_'+word+'_num'] = pd.to_numeric(df['housing_'+word+'_num'])\n",
      "/Users/kevinhsu/Documents/CSE583/RF/Functions.py:72: SettingWithCopyWarning: \n",
      "A value is trying to be set on a copy of a slice from a DataFrame.\n",
      "Try using .loc[row_indexer,col_indexer] = value instead\n",
      "\n",
      "See the caveats in the documentation: http://pandas.pydata.org/pandas-docs/stable/indexing.html#indexing-view-versus-copy\n",
      "  rank['rand_num'] = np.random.uniform(0,1, len(rank))\n"
     ]
    },
    {
     "name": "stdout",
     "output_type": "stream",
     "text": [
      "Train set Accuracy score:73.61%\n",
      "Test set Accuracy score:70.51%\n",
      "             precision    recall  f1-score   support\n",
      "\n",
      "     rank 1       0.65      0.72      0.68     17485\n",
      "     rank 2       0.73      0.72      0.73     17592\n",
      "     rank 3       0.74      0.68      0.71     17732\n",
      "\n",
      "avg / total       0.71      0.71      0.71     52809\n",
      "\n"
     ]
    },
    {
     "name": "stderr",
     "output_type": "stream",
     "text": [
      "/Users/kevinhsu/Documents/CSE583/RF/Functions.py:50: SettingWithCopyWarning: \n",
      "A value is trying to be set on a copy of a slice from a DataFrame.\n",
      "Try using .loc[row_indexer,col_indexer] = value instead\n",
      "\n",
      "See the caveats in the documentation: http://pandas.pydata.org/pandas-docs/stable/indexing.html#indexing-view-versus-copy\n",
      "  df[val+'_rank'] = (df['housing_'+val+'_num']/10).apply(np.floor)\n",
      "/Users/kevinhsu/anaconda3/lib/python3.6/site-packages/pandas/core/indexing.py:537: SettingWithCopyWarning: \n",
      "A value is trying to be set on a copy of a slice from a DataFrame.\n",
      "Try using .loc[row_indexer,col_indexer] = value instead\n",
      "\n",
      "See the caveats in the documentation: http://pandas.pydata.org/pandas-docs/stable/indexing.html#indexing-view-versus-copy\n",
      "  self.obj[item] = s\n",
      "/Users/kevinhsu/Documents/CSE583/RF/Functions.py:38: SettingWithCopyWarning: \n",
      "A value is trying to be set on a copy of a slice from a DataFrame.\n",
      "Try using .loc[row_indexer,col_indexer] = value instead\n",
      "\n",
      "See the caveats in the documentation: http://pandas.pydata.org/pandas-docs/stable/indexing.html#indexing-view-versus-copy\n",
      "  df['housing_'+word+'_num'] = df['housing_'+word+'_num'].replace('?',None)\n",
      "/Users/kevinhsu/Documents/CSE583/RF/Functions.py:39: SettingWithCopyWarning: \n",
      "A value is trying to be set on a copy of a slice from a DataFrame.\n",
      "Try using .loc[row_indexer,col_indexer] = value instead\n",
      "\n",
      "See the caveats in the documentation: http://pandas.pydata.org/pandas-docs/stable/indexing.html#indexing-view-versus-copy\n",
      "  df['housing_'+word+'_num'] = df['housing_'+word+'_num'].replace('.',None)\n",
      "/Users/kevinhsu/Documents/CSE583/RF/Functions.py:40: SettingWithCopyWarning: \n",
      "A value is trying to be set on a copy of a slice from a DataFrame.\n",
      "Try using .loc[row_indexer,col_indexer] = value instead\n",
      "\n",
      "See the caveats in the documentation: http://pandas.pydata.org/pandas-docs/stable/indexing.html#indexing-view-versus-copy\n",
      "  df['housing_'+word+'_num'] = pd.to_numeric(df['housing_'+word+'_num'])\n",
      "/Users/kevinhsu/Documents/CSE583/RF/Functions.py:72: SettingWithCopyWarning: \n",
      "A value is trying to be set on a copy of a slice from a DataFrame.\n",
      "Try using .loc[row_indexer,col_indexer] = value instead\n",
      "\n",
      "See the caveats in the documentation: http://pandas.pydata.org/pandas-docs/stable/indexing.html#indexing-view-versus-copy\n",
      "  rank['rand_num'] = np.random.uniform(0,1, len(rank))\n"
     ]
    },
    {
     "name": "stdout",
     "output_type": "stream",
     "text": [
      "Train set Accuracy score:67.59%\n",
      "Test set Accuracy score:65.28%\n",
      "             precision    recall  f1-score   support\n",
      "\n",
      "     rank 1       0.64      0.69      0.66     25995\n",
      "     rank 2       0.63      0.62      0.63     26363\n",
      "     rank 3       0.70      0.65      0.67     26062\n",
      "\n",
      "avg / total       0.65      0.65      0.65     78420\n",
      "\n"
     ]
    }
   ],
   "source": [
    "_, floor_acc_score = Build_RFC(df,'floor')\n",
    "_, roof_acc_score = Build_RFC(df,'roof')\n",
    "_, wall_acc_score = Build_RFC(df,'wall')"
   ]
  },
  {
   "cell_type": "code",
   "execution_count": 5,
   "metadata": {},
   "outputs": [
    {
     "name": "stdout",
     "output_type": "stream",
     "text": [
      "accuracy on predicting floor rank:71.67%\n",
      "accuracy on predicting roof rank:70.51%\n",
      "accuracy on predicting wall rank:65.28%\n"
     ]
    }
   ],
   "source": [
    "print('Accuracy on predicting floor rank:{:.2f}%'.format(floor_acc_score*100))\n",
    "print('Accuracy on predicting roof rank:{:.2f}%'.format(roof_acc_score*100))\n",
    "print('Accuracy on predicting wall rank:{:.2f}%'.format(wall_acc_score*100))"
   ]
  },
  {
   "cell_type": "code",
   "execution_count": null,
   "metadata": {
    "collapsed": true
   },
   "outputs": [],
   "source": []
  }
 ],
 "metadata": {
  "kernelspec": {
   "display_name": "Python 3",
   "language": "python",
   "name": "python3"
  },
  "language_info": {
   "codemirror_mode": {
    "name": "ipython",
    "version": 3
   },
   "file_extension": ".py",
   "mimetype": "text/x-python",
   "name": "python",
   "nbconvert_exporter": "python",
   "pygments_lexer": "ipython3",
   "version": "3.6.3"
  }
 },
 "nbformat": 4,
 "nbformat_minor": 2
}
