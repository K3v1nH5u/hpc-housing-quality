{
 "cells": [
  {
   "cell_type": "code",
   "execution_count": 1,
   "metadata": {},
   "outputs": [],
   "source": [
    "#import packages\n",
    "import pandas as pd\n",
    "import numpy as np\n",
    "import matplotlib.pyplot as plt\n",
    "import re\n",
    "\n",
    "#import custom modules\n",
    "import prep.prep_data as prep\n",
    "import prep.prep_cv as cv"
   ]
  },
  {
   "cell_type": "code",
   "execution_count": 2,
   "metadata": {},
   "outputs": [
    {
     "name": "stdout",
     "output_type": "stream",
     "text": [
      "~begin reading\n",
      "data read!\n",
      "~begin cleaning\n",
      "data clean!\n",
      "~applying filter\n"
     ]
    }
   ],
   "source": [
    "df = prep.read_then_clean('C:/Users/13706/OneDrive - UW/Desktop/583/project/housing_data.csv',\n",
    "                          ['housing_roof', 'housing_wall', 'housing_floor'],\n",
    "                          ['MACRO_DHS'])"
   ]
  },
  {
   "cell_type": "code",
   "execution_count": 3,
   "metadata": {},
   "outputs": [
    {
     "name": "stdout",
     "output_type": "stream",
     "text": [
      "{'nan': nan, 'other': nan, 'not a dejure resident': nan, 'not dejure resident': nan}\n",
      "removing garbage from  housing_roof\n",
      "removing garbage from  housing_wall\n",
      "removing garbage from  housing_floor\n"
     ]
    }
   ],
   "source": [
    "df_clean = prep.remove_garbage_codes(df, \n",
    "                                     ['housing_roof', 'housing_wall', 'housing_floor'],\n",
    "                                     ['nan', 'other', 'not a dejure resident', 'not dejure resident'])"
   ]
  },
  {
   "cell_type": "code",
   "execution_count": 4,
   "metadata": {},
   "outputs": [
    {
     "name": "stdout",
     "output_type": "stream",
     "text": [
      "defining ranking for  housing_roof_num\n",
      "defining ranking for  housing_wall_num\n",
      "defining ranking for  housing_floor_num\n"
     ]
    }
   ],
   "source": [
    "df_clean = prep.extract_ranking(df_clean, ['housing_roof_num', 'housing_wall_num', 'housing_floor_num'])"
   ]
  },
  {
   "cell_type": "code",
   "execution_count": 5,
   "metadata": {},
   "outputs": [
    {
     "name": "stdout",
     "output_type": "stream",
     "text": [
      "{'4': nan, '5': nan, '6': nan, '7': nan, '8': nan, '9': nan, 'n': nan}\n",
      "removing garbage from  housing_roof_rank\n",
      "removing garbage from  housing_wall_rank\n",
      "removing garbage from  housing_floor_rank\n"
     ]
    }
   ],
   "source": [
    "df_clean = prep.remove_garbage_codes(df_clean, \n",
    "                                     ['housing_roof_rank', 'housing_wall_rank', 'housing_floor_rank'],\n",
    "                                     ['4', '5', '6', '7', '8', '9', 'n'])"
   ]
  },
  {
   "cell_type": "code",
   "execution_count": 6,
   "metadata": {},
   "outputs": [
    {
     "name": "stdout",
     "output_type": "stream",
     "text": [
      "         Unnamed: 0 ihme_loc_id     nid survey_series   hhweight  urban  \\\n",
      "0                 1         AFG   56099     MACRO_DHS   695752.0    0.0   \n",
      "1                 2         AFG   56099     MACRO_DHS   695752.0    0.0   \n",
      "2                 3         AFG   56099     MACRO_DHS  1075029.0    0.0   \n",
      "3                 4         AFG   56099     MACRO_DHS   897294.0    0.0   \n",
      "4                 5         AFG   56099     MACRO_DHS   695752.0    0.0   \n",
      "5                 6         AFG   56099     MACRO_DHS   695752.0    0.0   \n",
      "6                 7         AFG   56099     MACRO_DHS  1039732.0    0.0   \n",
      "7                 8         AFG   56099     MACRO_DHS   695752.0    0.0   \n",
      "8                 9         AFG   56099     MACRO_DHS  1209277.0    0.0   \n",
      "9                10         AFG   56099     MACRO_DHS  1209277.0    0.0   \n",
      "10               11         AFG   56099     MACRO_DHS  1725455.0    0.0   \n",
      "11               12         AFG   56099     MACRO_DHS  1209277.0    0.0   \n",
      "12               13         AFG   56099     MACRO_DHS  1725455.0    0.0   \n",
      "13               14         AFG   56099     MACRO_DHS  1725455.0    0.0   \n",
      "14               15         AFG   56099     MACRO_DHS  1513172.0    0.0   \n",
      "15               16         AFG   56099     MACRO_DHS  1725455.0    0.0   \n",
      "16               17         AFG   56099     MACRO_DHS  1725455.0    0.0   \n",
      "17               18         AFG   56099     MACRO_DHS   695752.0    0.0   \n",
      "18               19         AFG   56099     MACRO_DHS   695752.0    0.0   \n",
      "19               20         AFG   56099     MACRO_DHS   786861.0    0.0   \n",
      "20               21         AFG   56099     MACRO_DHS   695752.0    0.0   \n",
      "21               22         AFG   56099     MACRO_DHS   786861.0    0.0   \n",
      "22               23         AFG   56099     MACRO_DHS   786861.0    0.0   \n",
      "23               24         AFG   56099     MACRO_DHS   786861.0    0.0   \n",
      "24               25         AFG   56099     MACRO_DHS  1075029.0    0.0   \n",
      "25               26         AFG   56099     MACRO_DHS  1075029.0    0.0   \n",
      "26               27         AFG   56099     MACRO_DHS   695752.0    0.0   \n",
      "27               28         AFG   56099     MACRO_DHS  1209277.0    0.0   \n",
      "28               29         AFG   56099     MACRO_DHS  1075029.0    0.0   \n",
      "29               30         AFG   56099     MACRO_DHS   695752.0    0.0   \n",
      "...             ...         ...     ...           ...        ...    ...   \n",
      "1181443     1181444         ZWE  157066     MACRO_DHS        1.0    0.0   \n",
      "1181444     1181445         ZWE  157066     MACRO_DHS        1.0    0.0   \n",
      "1181445     1181446         ZWE  157066     MACRO_DHS        1.0    0.0   \n",
      "1181446     1181447         ZWE  157066     MACRO_DHS        1.0    0.0   \n",
      "1181447     1181448         ZWE  157066     MACRO_DHS        1.0    0.0   \n",
      "1181448     1181449         ZWE  157066     MACRO_DHS        1.0    0.0   \n",
      "1181449     1181450         ZWE  157066     MACRO_DHS        1.0    0.0   \n",
      "1181450     1181451         ZWE  157066     MACRO_DHS        1.0    0.0   \n",
      "1181451     1181452         ZWE  157066     MACRO_DHS        1.0    0.0   \n",
      "1181452     1181453         ZWE  157066     MACRO_DHS        1.0    1.0   \n",
      "1181453     1181454         ZWE  157066     MACRO_DHS        1.0    1.0   \n",
      "1181454     1181455         ZWE  157066     MACRO_DHS        1.0    1.0   \n",
      "1181455     1181456         ZWE  157066     MACRO_DHS        1.0    1.0   \n",
      "1181456     1181457         ZWE  157066     MACRO_DHS        1.0    1.0   \n",
      "1181457     1181458         ZWE  157066     MACRO_DHS        1.0    1.0   \n",
      "1181458     1181459         ZWE  157066     MACRO_DHS        1.0    1.0   \n",
      "1181459     1181460         ZWE  157066     MACRO_DHS        1.0    1.0   \n",
      "1181460     1181461         ZWE  157066     MACRO_DHS        1.0    1.0   \n",
      "1181461     1181462         ZWE  157066     MACRO_DHS        1.0    1.0   \n",
      "1181462     1181463         ZWE  157066     MACRO_DHS        1.0    1.0   \n",
      "1181463     1181464         ZWE  157066     MACRO_DHS        1.0    1.0   \n",
      "1181464     1181465         ZWE  157066     MACRO_DHS        1.0    1.0   \n",
      "1181465     1181466         ZWE  157066     MACRO_DHS        1.0    1.0   \n",
      "1181466     1181467         ZWE  157066     MACRO_DHS        1.0    1.0   \n",
      "1181467     1181468         ZWE  157066     MACRO_DHS        1.0    1.0   \n",
      "1181468     1181469         ZWE  157066     MACRO_DHS        1.0    1.0   \n",
      "1181469     1181470         ZWE  157066     MACRO_DHS        1.0    1.0   \n",
      "1181470     1181471         ZWE  157066     MACRO_DHS        1.0    1.0   \n",
      "1181471     1181472         ZWE  157066     MACRO_DHS        1.0    1.0   \n",
      "1181472     1181473         ZWE  157066     MACRO_DHS        1.0    1.0   \n",
      "\n",
      "         hh_size  int_year          housing_roof            housing_wall  \\\n",
      "0            1.0      2010                   NaN           cement bricks   \n",
      "1            1.0      2010                   NaN            hay with mud   \n",
      "2            1.0      2010                   NaN            hay with mud   \n",
      "3            1.0      2010                   NaN                no walls   \n",
      "4            1.0      2010                   NaN                no walls   \n",
      "5            1.0      2010                   NaN         uncovered adobe   \n",
      "6            1.0      2010                   NaN         uncovered adobe   \n",
      "7            1.0      2010                   NaN         uncovered adobe   \n",
      "8            1.0      2010  cardboard cloth tent                    dirt   \n",
      "9            1.0      2010  cardboard cloth tent            prepared mud   \n",
      "10           1.0      2010         cement bricks                  cement   \n",
      "11           1.0      2010         cement bricks           cement bricks   \n",
      "12           1.0      2010         cement bricks           cement bricks   \n",
      "13           1.0      2010         cement bricks           cement bricks   \n",
      "14           1.0      2010         cement bricks           cement bricks   \n",
      "15           1.0      2010         cement bricks           covered adobe   \n",
      "16           1.0      2010         cement bricks           covered adobe   \n",
      "17           1.0      2010         cement bricks                    dirt   \n",
      "18           1.0      2010         cement bricks            hay with mud   \n",
      "19           1.0      2010         cement bricks          stone with mud   \n",
      "20           1.0      2010         cement bricks         uncovered adobe   \n",
      "21           1.0      2010         cement bricks         uncovered adobe   \n",
      "22           1.0      2010         ceramic tiles           cement bricks   \n",
      "23           1.0      2010         ceramic tiles            prepared mud   \n",
      "24           1.0      2010         ceramic tiles         uncovered adobe   \n",
      "25           1.0      2010                 metal           cement bricks   \n",
      "26           1.0      2010                 metal         uncovered adobe   \n",
      "27           1.0      2010      roofing shingles         uncovered adobe   \n",
      "28           1.0      2010      roofing shingles         uncovered adobe   \n",
      "29           1.0      2010      roofing shingles         uncovered adobe   \n",
      "...          ...       ...                   ...                     ...   \n",
      "1181443      1.0      2015              asbestos  stone with lime cement   \n",
      "1181444      1.0      2015                 metal                  cement   \n",
      "1181445      1.0      2015      thatch palm leaf                  bricks   \n",
      "1181446      1.0      2015      thatch palm leaf                  cement   \n",
      "1181447      1.0      2015      thatch palm leaf                     mud   \n",
      "1181448      1.0      2015      thatch palm leaf                     mud   \n",
      "1181449      1.0      2015      thatch palm leaf                     mud   \n",
      "1181450      1.0      2015      thatch palm leaf  stone with lime cement   \n",
      "1181451      1.0      2015      thatch palm leaf          stone with mud   \n",
      "1181452      1.0      2015              asbestos                  bricks   \n",
      "1181453      1.0      2015              asbestos                  cement   \n",
      "1181454      1.0      2015              asbestos           cement blocks   \n",
      "1181455      1.0      2015              asbestos  stone with lime cement   \n",
      "1181456      1.0      2015              asbestos                  bricks   \n",
      "1181457      1.0      2015              asbestos                  cement   \n",
      "1181458      1.0      2015              asbestos           cement blocks   \n",
      "1181459      1.0      2015              asbestos          stone with mud   \n",
      "1181460      1.0      2015      thatch palm leaf                     mud   \n",
      "1181461      1.0      2015      thatch palm leaf             reused wood   \n",
      "1181462      1.0      2015                 tiles                  cement   \n",
      "1181463      1.0      2015              asbestos                  bricks   \n",
      "1181464      1.0      2015              asbestos                  bricks   \n",
      "1181465      1.0      2015              asbestos                  cement   \n",
      "1181466      1.0      2015              asbestos                  cement   \n",
      "1181467      1.0      2015              asbestos           cement blocks   \n",
      "1181468      1.0      2015              asbestos                  bricks   \n",
      "1181469      1.0      2015              asbestos                  bricks   \n",
      "1181470      1.0      2015              asbestos                  cement   \n",
      "1181471      1.0      2015              asbestos                  cement   \n",
      "1181472      1.0      2015              asbestos                  cement   \n",
      "\n",
      "                ...         housing_floor_num iso3 cluster_id    index  \\\n",
      "0               ...                        41  AFG      28108        1   \n",
      "1               ...                        96  AFG      28108        2   \n",
      "2               ...                        13  AFG      28108        3   \n",
      "3               ...                        11  AFG      28108        4   \n",
      "4               ...                        32  AFG      28108        5   \n",
      "5               ...                        96  AFG      28108        6   \n",
      "6               ...                        13  AFG      28108        7   \n",
      "7               ...                        32  AFG      28108        8   \n",
      "8               ...                        11  AFG      28108        9   \n",
      "9               ...                        11  AFG      28108       10   \n",
      "10              ...                        34  AFG      28108       11   \n",
      "11              ...                        41  AFG      28108       12   \n",
      "12              ...                        34  AFG      28108       13   \n",
      "13              ...                        33  AFG      28108       14   \n",
      "14              ...                        11  AFG      28108       15   \n",
      "15              ...                        34  AFG      28108       16   \n",
      "16              ...                        33  AFG      28108       17   \n",
      "17              ...                        41  AFG      28108       18   \n",
      "18              ...                        41  AFG      28108       19   \n",
      "19              ...                        41  AFG      28108       20   \n",
      "20              ...                        11  AFG      28108       21   \n",
      "21              ...                        32  AFG      28108       22   \n",
      "22              ...                        41  AFG      28108       23   \n",
      "23              ...                        41  AFG      28108       24   \n",
      "24              ...                        13  AFG      28108       25   \n",
      "25              ...                        41  AFG      28108       26   \n",
      "26              ...                        96  AFG      28108       27   \n",
      "27              ...                        11  AFG      28108       28   \n",
      "28              ...                        13  AFG      28108       29   \n",
      "29              ...                        32  AFG      28108       30   \n",
      "...             ...                       ...  ...        ...      ...   \n",
      "1181443         ...                        34  ZWE      85030  1181444   \n",
      "1181444         ...                        34  ZWE      85030  1181445   \n",
      "1181445         ...                        11  ZWE      85030  1181446   \n",
      "1181446         ...                        34  ZWE      85030  1181447   \n",
      "1181447         ...                        34  ZWE      85030  1181448   \n",
      "1181448         ...                        12  ZWE      85030  1181449   \n",
      "1181449         ...                        11  ZWE      85030  1181450   \n",
      "1181450         ...                        34  ZWE      85030  1181451   \n",
      "1181451         ...                        12  ZWE      85030  1181452   \n",
      "1181452         ...                        34  ZWE      85031  1181453   \n",
      "1181453         ...                        34  ZWE      85031  1181454   \n",
      "1181454         ...                        34  ZWE      85031  1181455   \n",
      "1181455         ...                        34  ZWE      85031  1181456   \n",
      "1181456         ...                        34  ZWE      85032  1181457   \n",
      "1181457         ...                        34  ZWE      85032  1181458   \n",
      "1181458         ...                        34  ZWE      85032  1181459   \n",
      "1181459         ...                        34  ZWE      85032  1181460   \n",
      "1181460         ...                        12  ZWE      85032  1181461   \n",
      "1181461         ...                        11  ZWE      85032  1181462   \n",
      "1181462         ...                        34  ZWE      85032  1181463   \n",
      "1181463         ...                        34  ZWE      85033  1181464   \n",
      "1181464         ...                        33  ZWE      85033  1181465   \n",
      "1181465         ...                        34  ZWE      85033  1181466   \n",
      "1181466         ...                        33  ZWE      85033  1181467   \n",
      "1181467         ...                        34  ZWE      85033  1181468   \n",
      "1181468         ...                        34  ZWE      85034  1181469   \n",
      "1181469         ...                        33  ZWE      85034  1181470   \n",
      "1181470         ...                        34  ZWE      85034  1181471   \n",
      "1181471         ...                        34  ZWE      85035  1181472   \n",
      "1181472         ...                        11  ZWE      85035  1181473   \n",
      "\n",
      "        region_id  super_region_id          N  housing_roof_rank  \\\n",
      "0             138              137   1.000000                NaN   \n",
      "1             138              137   1.000000                NaN   \n",
      "2             138              137   2.000000                NaN   \n",
      "3             138              137   1.000000                NaN   \n",
      "4             138              137   1.000000                NaN   \n",
      "5             138              137   8.000000                NaN   \n",
      "6             138              137   1.000000                NaN   \n",
      "7             138              137   3.000000                NaN   \n",
      "8             138              137   1.000000                  2   \n",
      "9             138              137   1.000000                  2   \n",
      "10            138              137   1.000000                  3   \n",
      "11            138              137   4.337890                  3   \n",
      "12            138              137   4.855205                  3   \n",
      "13            138              137   2.000000                  3   \n",
      "14            138              137   1.000000                  3   \n",
      "15            138              137   2.000000                  3   \n",
      "16            138              137   1.000000                  3   \n",
      "17            138              137   1.000000                  3   \n",
      "18            138              137   1.000000                  3   \n",
      "19            138              137   1.000000                  3   \n",
      "20            138              137   1.000000                  3   \n",
      "21            138              137   1.992476                  3   \n",
      "22            138              137   1.000000                  3   \n",
      "23            138              137   2.000000                  3   \n",
      "24            138              137   1.000000                  3   \n",
      "25            138              137   1.000000                  3   \n",
      "26            138              137   1.000000                  3   \n",
      "27            138              137   1.000000                  3   \n",
      "28            138              137   2.000000                  3   \n",
      "29            138              137   1.000000                  3   \n",
      "...           ...              ...        ...                ...   \n",
      "1181443       192              166   1.000000                  3   \n",
      "1181444       192              166   2.000000                  3   \n",
      "1181445       192              166   3.000000                  1   \n",
      "1181446       192              166   1.000000                  1   \n",
      "1181447       192              166   1.000000                  1   \n",
      "1181448       192              166   6.000000                  1   \n",
      "1181449       192              166  10.000000                  1   \n",
      "1181450       192              166   1.000000                  1   \n",
      "1181451       192              166   1.000000                  1   \n",
      "1181452       192              166   7.000000                  3   \n",
      "1181453       192              166  12.000000                  3   \n",
      "1181454       192              166   6.000000                  3   \n",
      "1181455       192              166   3.000000                  3   \n",
      "1181456       192              166   4.000000                  3   \n",
      "1181457       192              166  17.000000                  3   \n",
      "1181458       192              166   1.000000                  3   \n",
      "1181459       192              166   1.000000                  3   \n",
      "1181460       192              166   2.000000                  1   \n",
      "1181461       192              166   1.000000                  1   \n",
      "1181462       192              166   1.000000                  3   \n",
      "1181463       192              166   8.000000                  3   \n",
      "1181464       192              166   1.000000                  3   \n",
      "1181465       192              166  15.000000                  3   \n",
      "1181466       192              166   2.000000                  3   \n",
      "1181467       192              166   1.000000                  3   \n",
      "1181468       192              166  17.000000                  3   \n",
      "1181469       192              166   2.000000                  3   \n",
      "1181470       192              166   6.000000                  3   \n",
      "1181471       192              166  27.000000                  3   \n",
      "1181472       192              166   1.000000                  3   \n",
      "\n",
      "         housing_wall_rank  housing_floor_rank  \n",
      "0                        3                 NaN  \n",
      "1                        2                 NaN  \n",
      "2                        2                   1  \n",
      "3                        1                   1  \n",
      "4                        1                   3  \n",
      "5                        2                 NaN  \n",
      "6                        2                   1  \n",
      "7                        2                   3  \n",
      "8                        1                   1  \n",
      "9                        1                   1  \n",
      "10                       3                   3  \n",
      "11                       3                 NaN  \n",
      "12                       3                   3  \n",
      "13                       3                   3  \n",
      "14                       3                   1  \n",
      "15                       3                   3  \n",
      "16                       3                   3  \n",
      "17                       1                 NaN  \n",
      "18                       2                 NaN  \n",
      "19                       2                 NaN  \n",
      "20                       2                   1  \n",
      "21                       2                   3  \n",
      "22                       3                 NaN  \n",
      "23                       1                 NaN  \n",
      "24                       2                   1  \n",
      "25                       3                 NaN  \n",
      "26                       2                 NaN  \n",
      "27                       2                   1  \n",
      "28                       2                   1  \n",
      "29                       2                   3  \n",
      "...                    ...                 ...  \n",
      "1181443                  3                   3  \n",
      "1181444                  3                   3  \n",
      "1181445                  3                   1  \n",
      "1181446                  3                   3  \n",
      "1181447                  1                   3  \n",
      "1181448                  1                   1  \n",
      "1181449                  1                   1  \n",
      "1181450                  3                   3  \n",
      "1181451                  2                   1  \n",
      "1181452                  3                   3  \n",
      "1181453                  3                   3  \n",
      "1181454                  3                   3  \n",
      "1181455                  3                   3  \n",
      "1181456                  3                   3  \n",
      "1181457                  3                   3  \n",
      "1181458                  3                   3  \n",
      "1181459                  2                   3  \n",
      "1181460                  1                   1  \n",
      "1181461                  2                   1  \n",
      "1181462                  3                   3  \n",
      "1181463                  3                   3  \n",
      "1181464                  3                   3  \n",
      "1181465                  3                   3  \n",
      "1181466                  3                   3  \n",
      "1181467                  3                   3  \n",
      "1181468                  3                   3  \n",
      "1181469                  3                   3  \n",
      "1181470                  3                   3  \n",
      "1181471                  3                   3  \n",
      "1181472                  3                   1  \n",
      "\n",
      "[504812 rows x 23 columns]\n"
     ]
    }
   ],
   "source": [
    "print(df_clean)"
   ]
  },
  {
   "cell_type": "code",
   "execution_count": 7,
   "metadata": {},
   "outputs": [
    {
     "data": {
      "text/plain": [
       "Unnamed: 0              int64\n",
       "ihme_loc_id            object\n",
       "nid                     int64\n",
       "survey_series          object\n",
       "hhweight              float64\n",
       "urban                 float64\n",
       "hh_size               float64\n",
       "int_year                int64\n",
       "housing_roof           object\n",
       "housing_wall           object\n",
       "housing_floor          object\n",
       "housing_roof_num       object\n",
       "housing_wall_num       object\n",
       "housing_floor_num      object\n",
       "iso3                   object\n",
       "cluster_id              int64\n",
       "index                   int64\n",
       "region_id               int64\n",
       "super_region_id         int64\n",
       "N                     float64\n",
       "housing_roof_rank      object\n",
       "housing_wall_rank      object\n",
       "housing_floor_rank     object\n",
       "dtype: object"
      ]
     },
     "execution_count": 7,
     "metadata": {},
     "output_type": "execute_result"
    }
   ],
   "source": [
    "df_clean.dtypes"
   ]
  },
  {
   "cell_type": "code",
   "execution_count": 8,
   "metadata": {},
   "outputs": [
    {
     "name": "stdout",
     "output_type": "stream",
     "text": [
      "         Unnamed: 0 ihme_loc_id     nid survey_series   hhweight  urban  \\\n",
      "0                 1         AFG   56099     MACRO_DHS   695752.0    0.0   \n",
      "1                 2         AFG   56099     MACRO_DHS   695752.0    0.0   \n",
      "2                 3         AFG   56099     MACRO_DHS  1075029.0    0.0   \n",
      "3                 4         AFG   56099     MACRO_DHS   897294.0    0.0   \n",
      "4                 5         AFG   56099     MACRO_DHS   695752.0    0.0   \n",
      "5                 6         AFG   56099     MACRO_DHS   695752.0    0.0   \n",
      "6                 7         AFG   56099     MACRO_DHS  1039732.0    0.0   \n",
      "7                 8         AFG   56099     MACRO_DHS   695752.0    0.0   \n",
      "8                 9         AFG   56099     MACRO_DHS  1209277.0    0.0   \n",
      "9                10         AFG   56099     MACRO_DHS  1209277.0    0.0   \n",
      "10               11         AFG   56099     MACRO_DHS  1725455.0    0.0   \n",
      "11               12         AFG   56099     MACRO_DHS  1209277.0    0.0   \n",
      "12               13         AFG   56099     MACRO_DHS  1725455.0    0.0   \n",
      "13               14         AFG   56099     MACRO_DHS  1725455.0    0.0   \n",
      "14               15         AFG   56099     MACRO_DHS  1513172.0    0.0   \n",
      "15               16         AFG   56099     MACRO_DHS  1725455.0    0.0   \n",
      "16               17         AFG   56099     MACRO_DHS  1725455.0    0.0   \n",
      "17               18         AFG   56099     MACRO_DHS   695752.0    0.0   \n",
      "18               19         AFG   56099     MACRO_DHS   695752.0    0.0   \n",
      "19               20         AFG   56099     MACRO_DHS   786861.0    0.0   \n",
      "20               21         AFG   56099     MACRO_DHS   695752.0    0.0   \n",
      "21               22         AFG   56099     MACRO_DHS   786861.0    0.0   \n",
      "22               23         AFG   56099     MACRO_DHS   786861.0    0.0   \n",
      "23               24         AFG   56099     MACRO_DHS   786861.0    0.0   \n",
      "24               25         AFG   56099     MACRO_DHS  1075029.0    0.0   \n",
      "25               26         AFG   56099     MACRO_DHS  1075029.0    0.0   \n",
      "26               27         AFG   56099     MACRO_DHS   695752.0    0.0   \n",
      "27               28         AFG   56099     MACRO_DHS  1209277.0    0.0   \n",
      "28               29         AFG   56099     MACRO_DHS  1075029.0    0.0   \n",
      "29               30         AFG   56099     MACRO_DHS   695752.0    0.0   \n",
      "...             ...         ...     ...           ...        ...    ...   \n",
      "1181443     1181444         ZWE  157066     MACRO_DHS        1.0    0.0   \n",
      "1181444     1181445         ZWE  157066     MACRO_DHS        1.0    0.0   \n",
      "1181445     1181446         ZWE  157066     MACRO_DHS        1.0    0.0   \n",
      "1181446     1181447         ZWE  157066     MACRO_DHS        1.0    0.0   \n",
      "1181447     1181448         ZWE  157066     MACRO_DHS        1.0    0.0   \n",
      "1181448     1181449         ZWE  157066     MACRO_DHS        1.0    0.0   \n",
      "1181449     1181450         ZWE  157066     MACRO_DHS        1.0    0.0   \n",
      "1181450     1181451         ZWE  157066     MACRO_DHS        1.0    0.0   \n",
      "1181451     1181452         ZWE  157066     MACRO_DHS        1.0    0.0   \n",
      "1181452     1181453         ZWE  157066     MACRO_DHS        1.0    1.0   \n",
      "1181453     1181454         ZWE  157066     MACRO_DHS        1.0    1.0   \n",
      "1181454     1181455         ZWE  157066     MACRO_DHS        1.0    1.0   \n",
      "1181455     1181456         ZWE  157066     MACRO_DHS        1.0    1.0   \n",
      "1181456     1181457         ZWE  157066     MACRO_DHS        1.0    1.0   \n",
      "1181457     1181458         ZWE  157066     MACRO_DHS        1.0    1.0   \n",
      "1181458     1181459         ZWE  157066     MACRO_DHS        1.0    1.0   \n",
      "1181459     1181460         ZWE  157066     MACRO_DHS        1.0    1.0   \n",
      "1181460     1181461         ZWE  157066     MACRO_DHS        1.0    1.0   \n",
      "1181461     1181462         ZWE  157066     MACRO_DHS        1.0    1.0   \n",
      "1181462     1181463         ZWE  157066     MACRO_DHS        1.0    1.0   \n",
      "1181463     1181464         ZWE  157066     MACRO_DHS        1.0    1.0   \n",
      "1181464     1181465         ZWE  157066     MACRO_DHS        1.0    1.0   \n",
      "1181465     1181466         ZWE  157066     MACRO_DHS        1.0    1.0   \n",
      "1181466     1181467         ZWE  157066     MACRO_DHS        1.0    1.0   \n",
      "1181467     1181468         ZWE  157066     MACRO_DHS        1.0    1.0   \n",
      "1181468     1181469         ZWE  157066     MACRO_DHS        1.0    1.0   \n",
      "1181469     1181470         ZWE  157066     MACRO_DHS        1.0    1.0   \n",
      "1181470     1181471         ZWE  157066     MACRO_DHS        1.0    1.0   \n",
      "1181471     1181472         ZWE  157066     MACRO_DHS        1.0    1.0   \n",
      "1181472     1181473         ZWE  157066     MACRO_DHS        1.0    1.0   \n",
      "\n",
      "         hh_size  int_year          housing_roof            housing_wall  \\\n",
      "0            1.0      2010                   nan           cement bricks   \n",
      "1            1.0      2010                   nan            hay with mud   \n",
      "2            1.0      2010                   nan            hay with mud   \n",
      "3            1.0      2010                   nan                no walls   \n",
      "4            1.0      2010                   nan                no walls   \n",
      "5            1.0      2010                   nan         uncovered adobe   \n",
      "6            1.0      2010                   nan         uncovered adobe   \n",
      "7            1.0      2010                   nan         uncovered adobe   \n",
      "8            1.0      2010  cardboard cloth tent                    dirt   \n",
      "9            1.0      2010  cardboard cloth tent            prepared mud   \n",
      "10           1.0      2010         cement bricks                  cement   \n",
      "11           1.0      2010         cement bricks           cement bricks   \n",
      "12           1.0      2010         cement bricks           cement bricks   \n",
      "13           1.0      2010         cement bricks           cement bricks   \n",
      "14           1.0      2010         cement bricks           cement bricks   \n",
      "15           1.0      2010         cement bricks           covered adobe   \n",
      "16           1.0      2010         cement bricks           covered adobe   \n",
      "17           1.0      2010         cement bricks                    dirt   \n",
      "18           1.0      2010         cement bricks            hay with mud   \n",
      "19           1.0      2010         cement bricks          stone with mud   \n",
      "20           1.0      2010         cement bricks         uncovered adobe   \n",
      "21           1.0      2010         cement bricks         uncovered adobe   \n",
      "22           1.0      2010         ceramic tiles           cement bricks   \n",
      "23           1.0      2010         ceramic tiles            prepared mud   \n",
      "24           1.0      2010         ceramic tiles         uncovered adobe   \n",
      "25           1.0      2010                 metal           cement bricks   \n",
      "26           1.0      2010                 metal         uncovered adobe   \n",
      "27           1.0      2010      roofing shingles         uncovered adobe   \n",
      "28           1.0      2010      roofing shingles         uncovered adobe   \n",
      "29           1.0      2010      roofing shingles         uncovered adobe   \n",
      "...          ...       ...                   ...                     ...   \n",
      "1181443      1.0      2015              asbestos  stone with lime cement   \n",
      "1181444      1.0      2015                 metal                  cement   \n",
      "1181445      1.0      2015      thatch palm leaf                  bricks   \n",
      "1181446      1.0      2015      thatch palm leaf                  cement   \n",
      "1181447      1.0      2015      thatch palm leaf                     mud   \n",
      "1181448      1.0      2015      thatch palm leaf                     mud   \n",
      "1181449      1.0      2015      thatch palm leaf                     mud   \n",
      "1181450      1.0      2015      thatch palm leaf  stone with lime cement   \n",
      "1181451      1.0      2015      thatch palm leaf          stone with mud   \n",
      "1181452      1.0      2015              asbestos                  bricks   \n",
      "1181453      1.0      2015              asbestos                  cement   \n",
      "1181454      1.0      2015              asbestos           cement blocks   \n",
      "1181455      1.0      2015              asbestos  stone with lime cement   \n",
      "1181456      1.0      2015              asbestos                  bricks   \n",
      "1181457      1.0      2015              asbestos                  cement   \n",
      "1181458      1.0      2015              asbestos           cement blocks   \n",
      "1181459      1.0      2015              asbestos          stone with mud   \n",
      "1181460      1.0      2015      thatch palm leaf                     mud   \n",
      "1181461      1.0      2015      thatch palm leaf             reused wood   \n",
      "1181462      1.0      2015                 tiles                  cement   \n",
      "1181463      1.0      2015              asbestos                  bricks   \n",
      "1181464      1.0      2015              asbestos                  bricks   \n",
      "1181465      1.0      2015              asbestos                  cement   \n",
      "1181466      1.0      2015              asbestos                  cement   \n",
      "1181467      1.0      2015              asbestos           cement blocks   \n",
      "1181468      1.0      2015              asbestos                  bricks   \n",
      "1181469      1.0      2015              asbestos                  bricks   \n",
      "1181470      1.0      2015              asbestos                  cement   \n",
      "1181471      1.0      2015              asbestos                  cement   \n",
      "1181472      1.0      2015              asbestos                  cement   \n",
      "\n",
      "                   housing_floor housing_roof_num housing_wall_num  \\\n",
      "0                         carpet               99               33   \n",
      "1                            nan               96               21   \n",
      "2                    mud and hay               96               21   \n",
      "3                     earth sand               96               11   \n",
      "4        vinyl or plastic strips               96               11   \n",
      "5                            nan               96               23   \n",
      "6                    mud and hay               96               23   \n",
      "7        vinyl or plastic strips               96               23   \n",
      "8                     earth sand               23               13   \n",
      "9                     earth sand               23               12   \n",
      "10                        cement               34               31   \n",
      "11                        carpet               34               33   \n",
      "12                        cement               34               33   \n",
      "13                 ceramic tiles               34               33   \n",
      "14                    earth sand               34               33   \n",
      "15                        cement               34               34   \n",
      "16                 ceramic tiles               34               34   \n",
      "17                        carpet               34               13   \n",
      "18                        carpet               34               21   \n",
      "19                        carpet               34               22   \n",
      "20                    earth sand               34               23   \n",
      "21       vinyl or plastic strips               34               23   \n",
      "22                        carpet               33               33   \n",
      "23                        carpet               33               12   \n",
      "24                   mud and hay               33               23   \n",
      "25                        carpet               31               33   \n",
      "26                           nan               31               23   \n",
      "27                    earth sand               35               23   \n",
      "28                   mud and hay               35               23   \n",
      "29       vinyl or plastic strips               35               23   \n",
      "...                          ...              ...              ...   \n",
      "1181443                   cement               33               32   \n",
      "1181444                   cement               31               31   \n",
      "1181445               earth sand               12               33   \n",
      "1181446                   cement               12               31   \n",
      "1181447                   cement               12               13   \n",
      "1181448                     dung               12               13   \n",
      "1181449               earth sand               12               13   \n",
      "1181450                   cement               12               32   \n",
      "1181451                     dung               12               21   \n",
      "1181452                   cement               33               33   \n",
      "1181453                   cement               33               31   \n",
      "1181454                   cement               33               34   \n",
      "1181455                   cement               33               32   \n",
      "1181456                   cement               33               33   \n",
      "1181457                   cement               33               31   \n",
      "1181458                   cement               33               34   \n",
      "1181459                   cement               33               21   \n",
      "1181460                     dung               12               13   \n",
      "1181461               earth sand               12               24   \n",
      "1181462                   cement               34               31   \n",
      "1181463                   cement               33               33   \n",
      "1181464            ceramic tiles               33               33   \n",
      "1181465                   cement               33               31   \n",
      "1181466            ceramic tiles               33               31   \n",
      "1181467                   cement               33               34   \n",
      "1181468                   cement               33               33   \n",
      "1181469            ceramic tiles               33               33   \n",
      "1181470                   cement               33               31   \n",
      "1181471                   cement               33               31   \n",
      "1181472               earth sand               33               31   \n",
      "\n",
      "        housing_floor_num iso3  cluster_id    index  region_id  \\\n",
      "0                      41  AFG       28108        1        138   \n",
      "1                      96  AFG       28108        2        138   \n",
      "2                      13  AFG       28108        3        138   \n",
      "3                      11  AFG       28108        4        138   \n",
      "4                      32  AFG       28108        5        138   \n",
      "5                      96  AFG       28108        6        138   \n",
      "6                      13  AFG       28108        7        138   \n",
      "7                      32  AFG       28108        8        138   \n",
      "8                      11  AFG       28108        9        138   \n",
      "9                      11  AFG       28108       10        138   \n",
      "10                     34  AFG       28108       11        138   \n",
      "11                     41  AFG       28108       12        138   \n",
      "12                     34  AFG       28108       13        138   \n",
      "13                     33  AFG       28108       14        138   \n",
      "14                     11  AFG       28108       15        138   \n",
      "15                     34  AFG       28108       16        138   \n",
      "16                     33  AFG       28108       17        138   \n",
      "17                     41  AFG       28108       18        138   \n",
      "18                     41  AFG       28108       19        138   \n",
      "19                     41  AFG       28108       20        138   \n",
      "20                     11  AFG       28108       21        138   \n",
      "21                     32  AFG       28108       22        138   \n",
      "22                     41  AFG       28108       23        138   \n",
      "23                     41  AFG       28108       24        138   \n",
      "24                     13  AFG       28108       25        138   \n",
      "25                     41  AFG       28108       26        138   \n",
      "26                     96  AFG       28108       27        138   \n",
      "27                     11  AFG       28108       28        138   \n",
      "28                     13  AFG       28108       29        138   \n",
      "29                     32  AFG       28108       30        138   \n",
      "...                   ...  ...         ...      ...        ...   \n",
      "1181443                34  ZWE       85030  1181444        192   \n",
      "1181444                34  ZWE       85030  1181445        192   \n",
      "1181445                11  ZWE       85030  1181446        192   \n",
      "1181446                34  ZWE       85030  1181447        192   \n",
      "1181447                34  ZWE       85030  1181448        192   \n",
      "1181448                12  ZWE       85030  1181449        192   \n",
      "1181449                11  ZWE       85030  1181450        192   \n",
      "1181450                34  ZWE       85030  1181451        192   \n",
      "1181451                12  ZWE       85030  1181452        192   \n",
      "1181452                34  ZWE       85031  1181453        192   \n",
      "1181453                34  ZWE       85031  1181454        192   \n",
      "1181454                34  ZWE       85031  1181455        192   \n",
      "1181455                34  ZWE       85031  1181456        192   \n",
      "1181456                34  ZWE       85032  1181457        192   \n",
      "1181457                34  ZWE       85032  1181458        192   \n",
      "1181458                34  ZWE       85032  1181459        192   \n",
      "1181459                34  ZWE       85032  1181460        192   \n",
      "1181460                12  ZWE       85032  1181461        192   \n",
      "1181461                11  ZWE       85032  1181462        192   \n",
      "1181462                34  ZWE       85032  1181463        192   \n",
      "1181463                34  ZWE       85033  1181464        192   \n",
      "1181464                33  ZWE       85033  1181465        192   \n",
      "1181465                34  ZWE       85033  1181466        192   \n",
      "1181466                33  ZWE       85033  1181467        192   \n",
      "1181467                34  ZWE       85033  1181468        192   \n",
      "1181468                34  ZWE       85034  1181469        192   \n",
      "1181469                33  ZWE       85034  1181470        192   \n",
      "1181470                34  ZWE       85034  1181471        192   \n",
      "1181471                34  ZWE       85035  1181472        192   \n",
      "1181472                11  ZWE       85035  1181473        192   \n",
      "\n",
      "         super_region_id          N  \n",
      "0                    137   1.000000  \n",
      "1                    137   1.000000  \n",
      "2                    137   2.000000  \n",
      "3                    137   1.000000  \n",
      "4                    137   1.000000  \n",
      "5                    137   8.000000  \n",
      "6                    137   1.000000  \n",
      "7                    137   3.000000  \n",
      "8                    137   1.000000  \n",
      "9                    137   1.000000  \n",
      "10                   137   1.000000  \n",
      "11                   137   4.337890  \n",
      "12                   137   4.855205  \n",
      "13                   137   2.000000  \n",
      "14                   137   1.000000  \n",
      "15                   137   2.000000  \n",
      "16                   137   1.000000  \n",
      "17                   137   1.000000  \n",
      "18                   137   1.000000  \n",
      "19                   137   1.000000  \n",
      "20                   137   1.000000  \n",
      "21                   137   1.992476  \n",
      "22                   137   1.000000  \n",
      "23                   137   2.000000  \n",
      "24                   137   1.000000  \n",
      "25                   137   1.000000  \n",
      "26                   137   1.000000  \n",
      "27                   137   1.000000  \n",
      "28                   137   2.000000  \n",
      "29                   137   1.000000  \n",
      "...                  ...        ...  \n",
      "1181443              166   1.000000  \n",
      "1181444              166   2.000000  \n",
      "1181445              166   3.000000  \n",
      "1181446              166   1.000000  \n",
      "1181447              166   1.000000  \n",
      "1181448              166   6.000000  \n",
      "1181449              166  10.000000  \n",
      "1181450              166   1.000000  \n",
      "1181451              166   1.000000  \n",
      "1181452              166   7.000000  \n",
      "1181453              166  12.000000  \n",
      "1181454              166   6.000000  \n",
      "1181455              166   3.000000  \n",
      "1181456              166   4.000000  \n",
      "1181457              166  17.000000  \n",
      "1181458              166   1.000000  \n",
      "1181459              166   1.000000  \n",
      "1181460              166   2.000000  \n",
      "1181461              166   1.000000  \n",
      "1181462              166   1.000000  \n",
      "1181463              166   8.000000  \n",
      "1181464              166   1.000000  \n",
      "1181465              166  15.000000  \n",
      "1181466              166   2.000000  \n",
      "1181467              166   1.000000  \n",
      "1181468              166  17.000000  \n",
      "1181469              166   2.000000  \n",
      "1181470              166   6.000000  \n",
      "1181471              166  27.000000  \n",
      "1181472              166   1.000000  \n",
      "\n",
      "[504812 rows x 20 columns]\n"
     ]
    }
   ],
   "source": [
    "print(df)"
   ]
  },
  {
   "cell_type": "code",
   "execution_count": 9,
   "metadata": {},
   "outputs": [],
   "source": [
    "#change the varibale type from object to float\n",
    "df_clean['housing_roof_num'] = pd.to_numeric(df['housing_roof_num'].str.replace(' ', ' '),errors = 'force')\n",
    "df_clean['housing_wall_num'] = pd.to_numeric(df['housing_wall_num'].str.replace(' ', ' '),errors = 'force')\n",
    "df_clean['housing_floor_num'] = pd.to_numeric(df['housing_floor_num'].str.replace(' ', ' '),errors = 'force')"
   ]
  },
  {
   "cell_type": "code",
   "execution_count": 10,
   "metadata": {},
   "outputs": [
    {
     "data": {
      "text/plain": [
       "array([[<matplotlib.axes._subplots.AxesSubplot object at 0x0000023B94F1D278>]],\n",
       "      dtype=object)"
      ]
     },
     "execution_count": 10,
     "metadata": {},
     "output_type": "execute_result"
    },
    {
     "data": {
      "image/png": "[encoded data removed]",
      "text/plain": [
       "<Figure size 432x288 with 1 Axes>"
      ]
     },
     "metadata": {},
     "output_type": "display_data"
    }
   ],
   "source": [
    "# the distribution of housing_roof_num\n",
    "df_clean.hist(column = 'housing_roof_num', bins=50,rwidth=0.5, range=[0,100])"
   ]
  },
  {
   "cell_type": "code",
   "execution_count": 11,
   "metadata": {},
   "outputs": [
    {
     "data": {
      "text/plain": [
       "array([[<matplotlib.axes._subplots.AxesSubplot object at 0x0000023B94F1D240>]],\n",
       "      dtype=object)"
      ]
     },
     "execution_count": 11,
     "metadata": {},
     "output_type": "execute_result"
    },
    {
     "data": {
      "image/png": "[encoded data removed]",
      "text/plain": [
       "<Figure size 432x288 with 1 Axes>"
      ]
     },
     "metadata": {},
     "output_type": "display_data"
    }
   ],
   "source": [
    "# the distribution of housing_wall_num\n",
    "df_clean.hist(column = 'housing_wall_num', bins=50,rwidth=0.5, range=[0,100])"
   ]
  },
  {
   "cell_type": "code",
   "execution_count": 12,
   "metadata": {},
   "outputs": [
    {
     "data": {
      "text/plain": [
       "array([[<matplotlib.axes._subplots.AxesSubplot object at 0x0000023B8C890B38>]],\n",
       "      dtype=object)"
      ]
     },
     "execution_count": 12,
     "metadata": {},
     "output_type": "execute_result"
    },
    {
     "data": {
      "image/png": "[encoded data removed]",
      "text/plain": [
       "<Figure size 432x288 with 1 Axes>"
      ]
     },
     "metadata": {},
     "output_type": "display_data"
    }
   ],
   "source": [
    "# the distribution of housing_floor_num\n",
    "df_clean.hist(column = 'housing_floor_num', bins=50,rwidth=0.5, range=[0,100])"
   ]
  },
  {
   "cell_type": "code",
   "execution_count": 13,
   "metadata": {},
   "outputs": [
    {
     "data": {
      "text/plain": [
       "<matplotlib.axes._subplots.AxesSubplot at 0x23b8e91f0b8>"
      ]
     },
     "execution_count": 13,
     "metadata": {},
     "output_type": "execute_result"
    },
    {
     "data": {
      "image/png": "[encoded data removed]",
      "text/plain": [
       "<Figure size 432x288 with 1 Axes>"
      ]
     },
     "metadata": {},
     "output_type": "display_data"
    }
   ],
   "source": [
    "#boxplt of these three variable\n",
    "df_clean.boxplot(column = ['housing_roof_num', 'housing_wall_num', 'housing_floor_num'])"
   ]
  },
  {
   "cell_type": "code",
   "execution_count": 14,
   "metadata": {},
   "outputs": [
    {
     "data": {
      "text/plain": [
       "<matplotlib.axes._subplots.AxesSubplot at 0x23b901ec160>"
      ]
     },
     "execution_count": 14,
     "metadata": {},
     "output_type": "execute_result"
    },
    {
     "data": {
      "image/png": "[encoded data removed]",
      "text/plain": [
       "<Figure size 432x288 with 1 Axes>"
      ]
     },
     "metadata": {},
     "output_type": "display_data"
    }
   ],
   "source": [
    "df_clean.boxplot(column = ['housing_roof_num'])"
   ]
  },
  {
   "cell_type": "code",
   "execution_count": 15,
   "metadata": {},
   "outputs": [
    {
     "data": {
      "text/plain": [
       "<matplotlib.axes._subplots.AxesSubplot at 0x23b9062c4e0>"
      ]
     },
     "execution_count": 15,
     "metadata": {},
     "output_type": "execute_result"
    },
    {
     "data": {
      "image/png": "[encoded data removed]",
      "text/plain": [
       "<Figure size 432x288 with 1 Axes>"
      ]
     },
     "metadata": {},
     "output_type": "display_data"
    }
   ],
   "source": [
    "df_clean.boxplot(column = ['housing_wall_num'])"
   ]
  },
  {
   "cell_type": "code",
   "execution_count": 16,
   "metadata": {},
   "outputs": [
    {
     "data": {
      "text/plain": [
       "<matplotlib.axes._subplots.AxesSubplot at 0x23b8ec01cc0>"
      ]
     },
     "execution_count": 16,
     "metadata": {},
     "output_type": "execute_result"
    },
    {
     "data": {
      "image/png": "[encoded data removed]",
      "text/plain": [
       "<Figure size 432x288 with 1 Axes>"
      ]
     },
     "metadata": {},
     "output_type": "display_data"
    }
   ],
   "source": [
    "df_clean.boxplot(column = ['housing_floor_num'])"
   ]
  },
  {
   "cell_type": "code",
   "execution_count": 18,
   "metadata": {},
   "outputs": [
    {
     "data": {
      "image/png": "[encoded data removed]",
      "text/plain": [
       "<Figure size 432x288 with 1 Axes>"
      ]
     },
     "metadata": {},
     "output_type": "display_data"
    }
   ],
   "source": [
    "# scatter plot, see how is the relationship between each variable\n",
    "df1 = df_clean[['housing_roof_num', 'housing_wall_num', 'housing_floor_num']]\n",
    "ax = df1.plot.scatter(x='housing_roof_num', y = 'housing_wall_num')"
   ]
  },
  {
   "cell_type": "code",
   "execution_count": 19,
   "metadata": {},
   "outputs": [
    {
     "data": {
      "text/plain": [
       "<matplotlib.axes._subplots.AxesSubplot at 0x23b924a5e80>"
      ]
     },
     "execution_count": 19,
     "metadata": {},
     "output_type": "execute_result"
    },
    {
     "data": {
      "image/png": "[encoded data removed]",
      "text/plain": [
       "<Figure size 432x288 with 1 Axes>"
      ]
     },
     "metadata": {},
     "output_type": "display_data"
    }
   ],
   "source": [
    "df1.plot.scatter(x = 'housing_roof_num', y  = 'housing_floor_num')"
   ]
  },
  {
   "cell_type": "code",
   "execution_count": 20,
   "metadata": {},
   "outputs": [
    {
     "data": {
      "text/plain": [
       "<matplotlib.axes._subplots.AxesSubplot at 0x23b90264278>"
      ]
     },
     "execution_count": 20,
     "metadata": {},
     "output_type": "execute_result"
    },
    {
     "data": {
      "image/png": "[encoded data removed]",
      "text/plain": [
       "<Figure size 432x288 with 1 Axes>"
      ]
     },
     "metadata": {},
     "output_type": "display_data"
    }
   ],
   "source": [
    "df1.plot.scatter(x = 'housing_floor_num', y  = 'housing_wall_num')"
   ]
  },
  {
   "cell_type": "code",
   "execution_count": null,
   "metadata": {},
   "outputs": [],
   "source": []
  }
 ],
 "metadata": {
  "kernelspec": {
   "display_name": "Python 3",
   "language": "python",
   "name": "python3"
  },
  "language_info": {
   "codemirror_mode": {
    "name": "ipython",
    "version": 3
   },
   "file_extension": ".py",
   "mimetype": "text/x-python",
   "name": "python",
   "nbconvert_exporter": "python",
   "pygments_lexer": "ipython3",
   "version": "3.6.5"
  }
 },
 "nbformat": 4,
 "nbformat_minor": 2
}
