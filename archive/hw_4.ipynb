{
 "cells": [
  {
   "cell_type": "markdown",
   "metadata": {},
   "source": [
    "### Joseph Frostad\n",
    "### HW4: Linting and Testing\n",
    "### 11/1/2018\n",
    "#### Prompt\n",
    "\n",
    "This homework involves revisions to the files you created in HW 3.\n",
    "\n",
    "(2 points) Change test_create_dataframe.py to be runnable as a test file (using pytest if you prefer).\n",
    "\n",
    "(5 points) Make create_dataframe and test_create_dataframe PEP8 compliant. You should get a score of at least 9 out of 10. Please put your pylint output in your repo."
   ]
  },
  {
   "cell_type": "markdown",
   "metadata": {},
   "source": [
    "#### Config\n",
    "##### Load in packages"
   ]
  },
  {
   "cell_type": "code",
   "execution_count": 3,
   "metadata": {
    "scrolled": false
   },
   "outputs": [],
   "source": [
    "#import python packages\n",
    "import pandas as pd\n",
    "import pytest\n",
    "import requests as rq\n",
    "import pylint"
   ]
  },
  {
   "cell_type": "code",
   "execution_count": 4,
   "metadata": {},
   "outputs": [],
   "source": [
    "#import custom modules\n",
    "import sys\n",
    "sys.path.append('./analysis/') #add in the analysis path to system\n",
    "import fx"
   ]
  },
  {
   "cell_type": "markdown",
   "metadata": {},
   "source": [
    "##### Set globals"
   ]
  },
  {
   "cell_type": "code",
   "execution_count": null,
   "metadata": {},
   "outputs": [],
   "source": [
    "SEATTLE_URL = \"data.seattle.gov\"\n",
    "SCSI_ID = \"bsta-72tn\"\n",
    "WRONG_ID = \"bsta-72tb\"\n",
    "ANALYSIS_VARS = ['address', 'year_founded', 'closed', 'square_feet_total']"
   ]
  },
  {
   "cell_type": "markdown",
   "metadata": {},
   "source": [
    "##### Rewrite creation function"
   ]
  },
  {
   "cell_type": "code",
   "execution_count": null,
   "metadata": {
    "scrolled": true
   },
   "outputs": [],
   "source": [
    "%%file ./analysis/fx.py\n",
    "\"\"\"This module stores a function called create dataframe\n",
    "\"\"\"\n",
    "def create_dataframe(url,\n",
    "                     url_id,\n",
    "                     columns,\n",
    "                     min_nrow):\n",
    "    \"\"\"\n",
    "    This function reads in data from a government website using Socrata,\n",
    "    then returns it as a pandas df.\n",
    "\n",
    "    create_dataframe is the function name\n",
    "\n",
    "    Parameters:\n",
    "        url: This is the url of the government website\n",
    "        id: This is the ID of the data that the user wants to download\n",
    "        columns: This is a list of columns the user is interested in\n",
    "        min_nrow: The minimum number of rows expected\n",
    "\n",
    "    Returns:\n",
    "        df: A pandas dataframe with the columns requested\n",
    "\n",
    "    \"\"\"\n",
    "    # Import necessary packages\n",
    "    from sodapy import Socrata\n",
    "    import pandas as pd\n",
    "\n",
    "    # Setup client\n",
    "    client = Socrata(url, None)\n",
    "    results = client.get(url_id)\n",
    "    \n",
    "    # Convert to pandas DataFrame\n",
    "    data_frame = pd.DataFrame.from_records(results)\n",
    "    \n",
    "    # Verify that the minimum rowcount is met\n",
    "    if len(data_frame) < min_nrow:\n",
    "        class RowCountException(Exception):\n",
    "            \"\"\"Custom exception class.\n",
    "            \n",
    "            This exception is raised when the minimum row is unmet.\n",
    "\n",
    "            \"\"\"\n",
    "            pass\n",
    "        \n",
    "        raise RowCountException(\"Minimum number of rows were not returned by Socrata\")\n",
    "    \n",
    "    # Subset to columns of interest\n",
    "    # Analysis would be to determine whether the age or\n",
    "    # square feet of a cultural space are related to closure\n",
    "    data_frame = data_frame[columns]\n",
    "    \n",
    "    return data_frame\n"
   ]
  },
  {
   "cell_type": "code",
   "execution_count": null,
   "metadata": {
    "scrolled": true
   },
   "outputs": [],
   "source": [
    "%%file test_create_dataframe.py\n",
    "\"\"\"This is a module used to test a function: \"create_dataframe\"\n",
    "\n",
    "create_dataframe is a function that downloads data from a website and creates a pands df\n",
    "\n",
    "This module tests that function by ensuring that it returns expected exceptions in edge cases.\n",
    "\"\"\"\n",
    "# import packages\n",
    "import sys\n",
    "import pytest\n",
    "import requests as rq #necessary to catch HTTP error\n",
    "#import custom modules\n",
    "sys.path.append('./analysis/')#add in the analysis path to system\n",
    "import fx\n",
    "\n",
    "#set global for tests\n",
    "SEATTLE_URL = \"data.seattle.gov\"\n",
    "SCSI_ID = \"bsta-72tn\"\n",
    "WRONG_ID = \"bsta-72tb\"\n",
    "ANALYSIS_VARS = ['address', 'year_founded', 'closed', 'square_feet_total']\n",
    "\n",
    "def test_create_dataframe_length():\n",
    "    \"\"\"This function tests that the dataframe has the correct length.\n",
    "    \"\"\"\n",
    "    # This is the correct URL/ID, should return no exceptions and have 1000 rows\n",
    "    data_frame = fx.create_dataframe(SEATTLE_URL,\n",
    "                                     SCSI_ID,\n",
    "                                     ANALYSIS_VARS,\n",
    "                                     1000)\n",
    "    assert len(data_frame) == 1000\n",
    "\n",
    "# This data is NOT the Seattle Cultural Space Inventory, should return HTTP error\n",
    "def test_create_dataframe_bad_id():\n",
    "    \"\"\"This function tests that the dataframe is not returned and an error called\n",
    "    HTTPerror (inherited) from the requests package is return when an invalid ID\n",
    "    is passed to the function (IE the URL will not exist)\n",
    "    \"\"\"\n",
    "    with pytest.raises(rq.exceptions.HTTPError):\n",
    "        fx.create_dataframe(SEATTLE_URL,\n",
    "                            WRONG_ID,\n",
    "                            ANALYSIS_VARS,\n",
    "                            100)\n",
    "\n",
    "# This data is the Seattle Cultural Space Inventory\n",
    "#but can only get 1k rows, should return Row Count Exception\n",
    "def test_create_dataframe_row_count():\n",
    "    \"\"\"This function tests that a custom exception called RowCountException\n",
    "    will be returned when more than 1k rows are expected.\n",
    "    \"\"\"\n",
    "    with pytest.raises(Exception) as err:\n",
    "        fx.create_dataframe(SEATTLE_URL,\n",
    "                            SCSI_ID,\n",
    "                            ANALYSIS_VARS,\n",
    "                            1e4+1)\n",
    "    assert 'RowCountException' in str(err)#verify that your custom error is returned\n"
   ]
  },
  {
   "cell_type": "markdown",
   "metadata": {},
   "source": [
    "#### Test it!"
   ]
  },
  {
   "cell_type": "code",
   "execution_count": null,
   "metadata": {
    "scrolled": false
   },
   "outputs": [],
   "source": [
    "!pytest"
   ]
  },
  {
   "cell_type": "markdown",
   "metadata": {},
   "source": [
    "#### Clean it!"
   ]
  },
  {
   "cell_type": "code",
   "execution_count": null,
   "metadata": {
    "scrolled": true
   },
   "outputs": [],
   "source": [
    "!pylint test_create_dataframe.py"
   ]
  },
  {
   "cell_type": "code",
   "execution_count": null,
   "metadata": {},
   "outputs": [],
   "source": [
    "!pylint ./analysis/fx.py"
   ]
  }
 ],
 "metadata": {
  "kernelspec": {
   "display_name": "Python 3",
   "language": "python",
   "name": "python3"
  },
  "language_info": {
   "codemirror_mode": {
    "name": "ipython",
    "version": 3
   },
   "file_extension": ".py",
   "mimetype": "text/x-python",
   "name": "python",
   "nbconvert_exporter": "python",
   "pygments_lexer": "ipython3",
   "version": "3.7.0"
  }
 },
 "nbformat": 4,
 "nbformat_minor": 2
}
