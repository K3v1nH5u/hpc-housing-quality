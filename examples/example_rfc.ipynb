{
 "cells": [
  {
   "cell_type": "markdown",
   "metadata": {},
   "source": [
    "# Huff, Puff and Classify\n",
    "\n",
    "### Example Notebook: Randon Forest Classifier"
   ]
  },
  {
   "cell_type": "code",
   "execution_count": 8,
   "metadata": {
    "collapsed": true
   },
   "outputs": [],
   "source": [
    "#import package modules\n",
    "import os, os.path\n",
    "import sys\n",
    "from sklearn.metrics import accuracy_score, classification_report\n",
    "\n",
    "\n",
    "#import custom modules\n",
    "sys.path.append('../hp_classify')\n",
    "import prep.prep_data as prep\n",
    "import model.rfc_build as rfc\n",
    "\n",
    "#magik\n",
    "%matplotlib inline"
   ]
  },
  {
   "cell_type": "markdown",
   "metadata": {},
   "source": [
    "### User Gobal"
   ]
  },
  {
   "cell_type": "code",
   "execution_count": 9,
   "metadata": {
    "collapsed": true
   },
   "outputs": [],
   "source": [
    "#setup globals\n",
    "#setup directories\n",
    "CWD = os.getcwd()\n",
    "HOME_DIR = os.path.abspath(os.path.join(CWD, os.pardir))\n",
    "DATA_DIR = HOME_DIR + \"/data\"\n",
    "DATA_FILENAME = \"housing_data.csv\"\n",
    "\n",
    "LABEL = 'roof'\n",
    "STR_VAR = ['roof', 'wall', 'floor']"
   ]
  },
  {
   "cell_type": "markdown",
   "metadata": {},
   "source": [
    "### Read in and prep data for modeling"
   ]
  },
  {
   "cell_type": "code",
   "execution_count": 10,
   "metadata": {},
   "outputs": [
    {
     "name": "stdout",
     "output_type": "stream",
     "text": [
      "Runtime:5.56 sec\n"
     ]
    }
   ],
   "source": [
    "#load in dataset as pandas dataframe\n",
    "df = prep.load_data(DATA_DIR + \"/\" + DATA_FILENAME)"
   ]
  },
  {
   "cell_type": "code",
   "execution_count": 11,
   "metadata": {},
   "outputs": [
    {
     "name": "stderr",
     "output_type": "stream",
     "text": [
      "/Users/kevinhsu/anaconda3/lib/python3.6/site-packages/pandas/core/indexing.py:357: SettingWithCopyWarning: \n",
      "A value is trying to be set on a copy of a slice from a DataFrame.\n",
      "Try using .loc[row_indexer,col_indexer] = value instead\n",
      "\n",
      "See the caveats in the documentation: http://pandas.pydata.org/pandas-docs/stable/indexing.html#indexing-view-versus-copy\n",
      "  self.obj[key] = _infer_fill_value(value)\n",
      "/Users/kevinhsu/anaconda3/lib/python3.6/site-packages/pandas/core/indexing.py:537: SettingWithCopyWarning: \n",
      "A value is trying to be set on a copy of a slice from a DataFrame.\n",
      "Try using .loc[row_indexer,col_indexer] = value instead\n",
      "\n",
      "See the caveats in the documentation: http://pandas.pydata.org/pandas-docs/stable/indexing.html#indexing-view-versus-copy\n",
      "  self.obj[item] = s\n"
     ]
    }
   ],
   "source": [
    "#rank and truncate values outside 10 ~ 39\n",
    "df = prep.ranking(df,STR_VAR)"
   ]
  },
  {
   "cell_type": "code",
   "execution_count": 12,
   "metadata": {},
   "outputs": [
    {
     "name": "stderr",
     "output_type": "stream",
     "text": [
      "/Users/kevinhsu/anaconda3/lib/python3.6/site-packages/pandas/core/indexing.py:357: SettingWithCopyWarning: \n",
      "A value is trying to be set on a copy of a slice from a DataFrame.\n",
      "Try using .loc[row_indexer,col_indexer] = value instead\n",
      "\n",
      "See the caveats in the documentation: http://pandas.pydata.org/pandas-docs/stable/indexing.html#indexing-view-versus-copy\n",
      "  self.obj[key] = _infer_fill_value(value)\n",
      "/Users/kevinhsu/anaconda3/lib/python3.6/site-packages/pandas/core/indexing.py:537: SettingWithCopyWarning: \n",
      "A value is trying to be set on a copy of a slice from a DataFrame.\n",
      "Try using .loc[row_indexer,col_indexer] = value instead\n",
      "\n",
      "See the caveats in the documentation: http://pandas.pydata.org/pandas-docs/stable/indexing.html#indexing-view-versus-copy\n",
      "  self.obj[item] = s\n"
     ]
    }
   ],
   "source": [
    "df,_ = prep.shuffle_redistribute(df, LABEL, Redistribute=True)"
   ]
  },
  {
   "cell_type": "code",
   "execution_count": 13,
   "metadata": {
    "collapsed": true
   },
   "outputs": [],
   "source": [
    "FEATURES = prep.extract_features(df,LABEL)"
   ]
  },
  {
   "cell_type": "code",
   "execution_count": 14,
   "metadata": {},
   "outputs": [
    {
     "data": {
      "text/plain": [
       "['int_year',\n",
       " 'housing_wall_num',\n",
       " 'housing_floor_num',\n",
       " 'iso3',\n",
       " 'wall_rank',\n",
       " 'floor_rank']"
      ]
     },
     "execution_count": 14,
     "metadata": {},
     "output_type": "execute_result"
    }
   ],
   "source": [
    "FEATURES"
   ]
  },
  {
   "cell_type": "markdown",
   "metadata": {},
   "source": [
    "### Start Model training"
   ]
  },
  {
   "cell_type": "code",
   "execution_count": 16,
   "metadata": {
    "collapsed": true
   },
   "outputs": [],
   "source": [
    "#spilt train and test set \n",
    "x_train, x_test, y_train, y_test = prep.train_test_split(df, FEATURES, LABEL)"
   ]
  },
  {
   "cell_type": "code",
   "execution_count": 17,
   "metadata": {
    "collapsed": true
   },
   "outputs": [],
   "source": [
    "#build rfc model and save to directory\n",
    "RFC = rfc.rfc_model(x_train,y_train, LABEL)"
   ]
  },
  {
   "cell_type": "markdown",
   "metadata": {},
   "source": [
    "### Results"
   ]
  },
  {
   "cell_type": "code",
   "execution_count": 18,
   "metadata": {},
   "outputs": [
    {
     "name": "stdout",
     "output_type": "stream",
     "text": [
      "Train set Accuracy score:73.72%\n",
      "Test set Accuracy score:70.74%\n"
     ]
    }
   ],
   "source": [
    "#predict results\n",
    "pred_test = RFC.predict(x_test)   \n",
    "pred_train = RFC.predict(x_train)\n",
    "\n",
    "#accuracy_score\n",
    "test_score = accuracy_score(y_test, pred_test)\n",
    "train_score = accuracy_score(y_train, pred_train)\n",
    "print('Train set Accuracy score:{:.2f}%'.format(train_score*100))\n",
    "print('Test set Accuracy score:{:.2f}%'.format(test_score*100))"
   ]
  },
  {
   "cell_type": "code",
   "execution_count": 19,
   "metadata": {},
   "outputs": [
    {
     "name": "stdout",
     "output_type": "stream",
     "text": [
      "             precision    recall  f1-score   support\n",
      "\n",
      "     rank 1       0.65      0.72      0.68     17278\n",
      "     rank 2       0.74      0.73      0.73     17677\n",
      "     rank 3       0.74      0.68      0.71     17412\n",
      "\n",
      "avg / total       0.71      0.71      0.71     52367\n",
      "\n"
     ]
    }
   ],
   "source": [
    "print(classification_report(y_test, pred_test, target_names=['rank 1', 'rank 2', 'rank 3']))"
   ]
  },
  {
   "cell_type": "markdown",
   "metadata": {},
   "source": [
    "### Confusion Matrix "
   ]
  },
  {
   "cell_type": "code",
   "execution_count": 21,
   "metadata": {},
   "outputs": [
    {
     "data": {
      "image/png": "[encoded data removed]",
      "text/plain": [
       "<matplotlib.figure.Figure at 0x1072ee208>"
      ]
     },
     "metadata": {},
     "output_type": "display_data"
    }
   ],
   "source": [
    "#Confusion Matrix with diagonial representing accurately predicted ranks\n",
    "conf_matrix = rfc.confusion_matrix(y_test, pred_test, plot=True)"
   ]
  },
  {
   "cell_type": "markdown",
   "metadata": {},
   "source": [
    "# DEMO"
   ]
  },
  {
   "cell_type": "code",
   "execution_count": 16,
   "metadata": {},
   "outputs": [
    {
     "name": "stdout",
     "output_type": "stream",
     "text": [
      "Type house initial year: 2012\n",
      "Type the floor number: 31\n",
      "Type the wall number: 24\n",
      "Type the country iso3 code: BGD\n",
      "Predicted as rank 3.\n"
     ]
    }
   ],
   "source": [
    "rfc.demo_rfc(DATA_DIR,FEATURES,RFC)"
   ]
  }
 ],
 "metadata": {
  "kernelspec": {
   "display_name": "Python 3",
   "language": "python",
   "name": "python3"
  },
  "language_info": {
   "codemirror_mode": {
    "name": "ipython",
    "version": 3
   },
   "file_extension": ".py",
   "mimetype": "text/x-python",
   "name": "python",
   "nbconvert_exporter": "python",
   "pygments_lexer": "ipython3",
   "version": "3.6.3"
  }
 },
 "nbformat": 4,
 "nbformat_minor": 2
}
